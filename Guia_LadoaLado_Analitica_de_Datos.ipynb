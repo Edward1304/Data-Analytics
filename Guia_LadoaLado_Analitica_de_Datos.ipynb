{
  "nbformat": 4,
  "nbformat_minor": 0,
  "metadata": {
    "kernelspec": {
      "display_name": "Python 3",
      "language": "python",
      "name": "python3"
    },
    "language_info": {
      "codemirror_mode": {
        "name": "ipython",
        "version": 3
      },
      "file_extension": ".py",
      "mimetype": "text/x-python",
      "name": "python",
      "nbconvert_exporter": "python",
      "pygments_lexer": "ipython3",
      "version": "3.7.1"
    },
    "nav_menu": {
      "height": "279px",
      "width": "309px"
    },
    "toc": {
      "nav_menu": {},
      "number_sections": true,
      "sideBar": true,
      "skip_h1_title": false,
      "toc_cell": false,
      "toc_position": {},
      "toc_section_display": "block",
      "toc_window_display": false
    },
    "colab": {
      "provenance": []
    }
  },
  "cells": [
    {
      "cell_type": "markdown",
      "metadata": {
        "id": "view-in-github"
      },
      "source": [
        "<a href=\"https://colab.research.google.com/github/amalvarezme/AnaliticaDatos/blob/master/2_Regresion/1_Guia_LadoaLado.ipynb\" target=\"_parent\"><img src=\"https://colab.research.google.com/assets/colab-badge.svg\" alt=\"Open In Colab\"/></a>"
      ]
    },
    {
      "cell_type": "markdown",
      "metadata": {
        "id": "M7y7_T6BgwKS"
      },
      "source": [
        "# **Construyendo un proyecto de aprendizaje de máquina**\n",
        "\n",
        "## Aplicación en regresión\n",
        "\n",
        "*Códigos referencia del libro Hands-On Machine Learning with Scikit-Learn and Tensor Flow 2017 (Cap 2) -- Aurélien Géron"
      ]
    },
    {
      "cell_type": "code",
      "metadata": {
        "id": "9270xelJg8e6"
      },
      "source": [
        "#cargar datos desde drive acceso libre\n",
        "FILEID = \"1vrk5heTgxMBZagbw62SSVSWvfrW--Jgz\"\n",
        "!wget --load-cookies /tmp/cookies.txt \"https://docs.google.com/uc?export=download&confirm=$(wget --quiet --save-cookies /tmp/cookies.txt --keep-session-cookies --no-check-certificate 'https://docs.google.com/uc?export=download&id='$FILEID -O- | sed -rn 's/.*confirm=([0-9A-Za-z_]+).*/\\1\\n/p')&id=\"$FILEID -O codigos.zip && rm -rf /tmp/cookies.txt\n",
        "!unzip codigos.zip\n",
        "!dir"
      ],
      "execution_count": null,
      "outputs": []
    },
    {
      "cell_type": "markdown",
      "metadata": {
        "id": "vNhRKmgjgwKU"
      },
      "source": [
        "# Etapas principales en un sistema de aprendizaje de máquina\n",
        "\n",
        "1. Observar el problema (ayuda interdisciplinar)\n",
        "2. Obtener los datos\n",
        "3. *Análisis exploratorio incial (visualizar los datos y estadística descriptiva básica)*\n",
        "4. *Preparar los datos para los algoritmos de aprendizaje de máquina (evaluación, preproceso, caracterización, aprendizaje)*\n",
        "5. *Seleccionar un modelo y entrenar*\n",
        "6. *Sintonizar el modelo escogido*\n",
        "7. Presentar la solución\n",
        "8. Lanzar la solución, monitorear y mantener el sistema de aprendizaje de máquina."
      ]
    },
    {
      "cell_type": "markdown",
      "metadata": {
        "id": "gQzs0P6ygwKV"
      },
      "source": [
        "# Problema a resolver\n",
        "\n",
        "**Objetivo**: predecir precios medios en distritos de [California Housing Prices](https://www.kaggle.com/camnugent/california-housing-prices).\n",
        "\n",
        "**Insumos**: Características de los distritos."
      ]
    },
    {
      "cell_type": "markdown",
      "metadata": {
        "id": "LvSgH_AdgwKV"
      },
      "source": [
        "# Inicio códigos"
      ]
    },
    {
      "cell_type": "markdown",
      "metadata": {
        "id": "UjPg32NbgwKW"
      },
      "source": [
        "**Preparar modulos principales, funciones inline, paths para guardar archivos y figuras:**"
      ]
    },
    {
      "cell_type": "code",
      "metadata": {
        "id": "eqCrQ2PPgwKX"
      },
      "source": [
        "import numpy as np #importar librerias básicas\n",
        "import os\n",
        "\n",
        "# fijar semilla para fines pedagógicos\n",
        "np.random.seed(42)\n",
        "\n",
        "#render de figs sobre notebook\n",
        "%matplotlib inline\n",
        "# para graficar\n",
        "import matplotlib as mpl\n",
        "import matplotlib.pyplot as plt\n",
        "mpl.rc('axes', labelsize=14)\n",
        "mpl.rc('xtick', labelsize=12)\n",
        "mpl.rc('ytick', labelsize=12)\n",
        "\n",
        "#crear carpeta con resultados\n",
        "import os\n",
        "try:\n",
        "  os.mkdir('results')\n",
        "except:\n",
        "  print(\"Carpeta results ya existe\")\n",
        "\n",
        "import warnings #eliminar warnings\n",
        "warnings.filterwarnings(action=\"ignore\", message=\"^internal gelsd\")"
      ],
      "execution_count": null,
      "outputs": []
    },
    {
      "cell_type": "markdown",
      "metadata": {
        "id": "gOPdK51mgwKb"
      },
      "source": [
        "# Obtener los datos"
      ]
    },
    {
      "cell_type": "code",
      "metadata": {
        "id": "7IAoJRHfgwKf"
      },
      "source": [
        "import pandas as pd #importar pandas\n",
        "housing = pd.read_csv('datasets/housing/housing.csv')#leer archivo csv con pandas\n",
        "housing.head() #encabezado principal"
      ],
      "execution_count": null,
      "outputs": []
    },
    {
      "cell_type": "markdown",
      "metadata": {
        "id": "0GUVhFpcgwKi"
      },
      "source": [
        "# Análisis exploratorio básico"
      ]
    },
    {
      "cell_type": "code",
      "metadata": {
        "id": "nszIiFD6gwKj"
      },
      "source": [
        "housing.info() #revisar cantidad de datos, tipos de datos, campos vacios"
      ],
      "execution_count": null,
      "outputs": []
    },
    {
      "cell_type": "code",
      "metadata": {
        "id": "xIEvr5SKgwKl"
      },
      "source": [
        "housing[\"ocean_proximity\"].value_counts() #conteo de los valores en una característica"
      ],
      "execution_count": null,
      "outputs": []
    },
    {
      "cell_type": "code",
      "metadata": {
        "id": "ewqEGkD1gwKo"
      },
      "source": [
        "housing.describe() # estadística básica de las variables"
      ],
      "execution_count": null,
      "outputs": []
    },
    {
      "cell_type": "code",
      "metadata": {
        "id": "oTNlCmZPp8J3"
      },
      "source": [
        "x  = np.array([-500,-2,0,0.5,4,10,1000]) #diferencias entre media y mediana\n",
        "print(np.median(x),x.mean())"
      ],
      "execution_count": null,
      "outputs": []
    },
    {
      "cell_type": "markdown",
      "metadata": {
        "id": "dy35QW00GrQx"
      },
      "source": [
        "**Nota**: los [cuartiles](https://en.wikipedia.org/wiki/Interquartile_range) permiten revisar la asimetría de los datos."
      ]
    },
    {
      "cell_type": "markdown",
      "metadata": {
        "id": "k-EMI5brGA2j"
      },
      "source": [
        "# Indexación básica de usando pandas - DataFrame"
      ]
    },
    {
      "cell_type": "code",
      "metadata": {
        "id": "LBTg1w4WFfyc"
      },
      "source": [
        "housing.index[0] #el indice se refiere a las filas (muestras)"
      ],
      "execution_count": null,
      "outputs": []
    },
    {
      "cell_type": "code",
      "metadata": {
        "id": "F5jJ_rfVEulk"
      },
      "source": [
        "housing.loc[[0,4,5],['longitude','latitude']] #para indexar filas y columnas se pueden utilizar listas con los nombres de indices y columnas"
      ],
      "execution_count": null,
      "outputs": []
    },
    {
      "cell_type": "code",
      "metadata": {
        "id": "9pUvDekqFxF0"
      },
      "source": [
        "housing.loc[housing.index[[0,2,3]]] #los indices están en la variable index y se utiliza el método loc"
      ],
      "execution_count": null,
      "outputs": []
    },
    {
      "cell_type": "code",
      "metadata": {
        "id": "M2hhWebpFnei"
      },
      "source": [
        "housing[housing.columns[0:5]]#las columnas (atributos estan en la variable columns) por defecto se refieren como los keys de un diccionario"
      ],
      "execution_count": null,
      "outputs": []
    },
    {
      "cell_type": "code",
      "metadata": {
        "id": "LNZPfkV8GEqD"
      },
      "source": [
        "housing.iloc[0:5,4:7] # con el método iloc se puede indexar igual que en la librería numpy"
      ],
      "execution_count": null,
      "outputs": []
    },
    {
      "cell_type": "code",
      "metadata": {
        "id": "DvqfyqnEGKHR"
      },
      "source": [
        "housing.loc[0] #se indexa el primer elemento de la matriz"
      ],
      "execution_count": null,
      "outputs": []
    },
    {
      "cell_type": "code",
      "metadata": {
        "id": "eK3UoxpoGOLB"
      },
      "source": [
        "housing['latitude'] #se indexa la variable latitude"
      ],
      "execution_count": null,
      "outputs": []
    },
    {
      "cell_type": "code",
      "metadata": {
        "id": "raoG2sMxIEDY"
      },
      "source": [
        "housing.to_numpy() #to_numpy() convierte el dataframe a numpy array"
      ],
      "execution_count": null,
      "outputs": []
    },
    {
      "cell_type": "code",
      "metadata": {
        "id": "EDaiL1PkgwKq"
      },
      "source": [
        "housing[\"median_house_value\"].describe() # estadística básica de las variable de interés"
      ],
      "execution_count": null,
      "outputs": []
    },
    {
      "cell_type": "code",
      "metadata": {
        "id": "yQXFkUQTgwKt"
      },
      "source": [
        "import matplotlib.pyplot as plt\n",
        "housing.hist(bins=50, figsize=(20,15))\n",
        "plt.tight_layout()\n",
        "plt.savefig('results/attribute_histogram_plots.pdf', format='pdf', dpi=300)#para grabar resultados en pdf\n",
        "plt.show()"
      ],
      "execution_count": null,
      "outputs": []
    },
    {
      "cell_type": "markdown",
      "metadata": {
        "id": "IPek7JxfI3Ds"
      },
      "source": [
        "# **Ejercicio 1**\n",
        "\n",
        "- Discuta los histogramas visualizados.\n",
        "- Respecto a la variable de interés a predecir, qué puede inferer del histograma?"
      ]
    },
    {
      "cell_type": "markdown",
      "metadata": {
        "id": "TsWf30jkgwKw"
      },
      "source": [
        "# Preparar datos\n",
        "\n",
        "- Incluye análisis exploratorio y preprocesamiento referente a campos vacios y datos tipo categóricos."
      ]
    },
    {
      "cell_type": "markdown",
      "metadata": {
        "id": "3UIb84IJJ455"
      },
      "source": [
        "**Nota**:\n",
        "\n",
        "Se recomienda realizar una partición training/testing para no sobreajustar los análisis a los datos de training\n",
        "\n",
        "![CV](https://github.com/amalvarezme/AnaliticaDatos/blob/master/2_Regresion/crossvalidation.png?raw=1)\n",
        "\n",
        "\n"
      ]
    },
    {
      "cell_type": "code",
      "metadata": {
        "id": "XnIIdJTFgwKw"
      },
      "source": [
        "from sklearn.model_selection import train_test_split #particionar\n",
        "\n",
        "train_set, test_set = train_test_split(housing, test_size=0.2, random_state=42)#20% para testing, dejando semilla fija"
      ],
      "execution_count": null,
      "outputs": []
    },
    {
      "cell_type": "code",
      "metadata": {
        "id": "Yv8Y-uODv63P"
      },
      "source": [
        "print(train_set.shape,test_set.shape)#se revisa el tamaño de los sets"
      ],
      "execution_count": null,
      "outputs": []
    },
    {
      "cell_type": "code",
      "metadata": {
        "id": "cYsYup4cgwKy"
      },
      "source": [
        "test_set.head()"
      ],
      "execution_count": null,
      "outputs": []
    },
    {
      "cell_type": "code",
      "metadata": {
        "id": "tY4Vem3DgwK1"
      },
      "source": [
        "housing[\"median_income\"].hist()\n",
        "plt.show()"
      ],
      "execution_count": null,
      "outputs": []
    },
    {
      "cell_type": "markdown",
      "metadata": {
        "id": "EP51OANxgwK3"
      },
      "source": [
        "**Preproceso variable median_income -> continua a categórica**"
      ]
    },
    {
      "cell_type": "code",
      "metadata": {
        "id": "FX_J91LkgwK4"
      },
      "source": [
        "housing[\"income_cat\"] = pd.cut(housing[\"median_income\"],\n",
        "                               bins=[0., 1.5, 3.0, 4.5, 6., np.inf],\n",
        "                               labels=[1, 2, 3, 4, 5]) # se umbraliza por rangos la variable median income"
      ],
      "execution_count": null,
      "outputs": []
    },
    {
      "cell_type": "code",
      "metadata": {
        "scrolled": true,
        "id": "NFdyHVk9gwK6"
      },
      "source": [
        "housing[\"income_cat\"].value_counts()"
      ],
      "execution_count": null,
      "outputs": []
    },
    {
      "cell_type": "code",
      "metadata": {
        "id": "GNXRnNvlgwK9"
      },
      "source": [
        "housing[\"income_cat\"].hist()\n",
        "plt.show()"
      ],
      "execution_count": null,
      "outputs": []
    },
    {
      "cell_type": "markdown",
      "metadata": {
        "id": "1aAcM-S6gwLA"
      },
      "source": [
        "**Nota**: para evitar problemas a la hora de particionar los datos, se recomiendo utilizar muestreo estratificado cuando hay distribuciones asimétricas en las distribuciones de las variables (desbalance)."
      ]
    },
    {
      "cell_type": "code",
      "metadata": {
        "id": "q8GPFbpigwLA"
      },
      "source": [
        "from sklearn.model_selection import StratifiedShuffleSplit #método para participación estratificado\n",
        "\n",
        "split = StratifiedShuffleSplit(n_splits=1, test_size=0.2, random_state=42)\n",
        "for train_index, test_index in split.split(housing, housing[\"income_cat\"].values): #income_cat es la variable a utilizar para estratificar\n",
        "    strat_train_set = housing.loc[train_index]\n",
        "    strat_test_set = housing.loc[test_index]"
      ],
      "execution_count": null,
      "outputs": []
    },
    {
      "cell_type": "code",
      "metadata": {
        "id": "q8x72BZgxm-2"
      },
      "source": [
        "test_index #split define la fila a escoger durante la partición"
      ],
      "execution_count": null,
      "outputs": []
    },
    {
      "cell_type": "code",
      "metadata": {
        "id": "0NFPYHilgwLC"
      },
      "source": [
        "strat_train_set[\"income_cat\"].value_counts() / len(strat_train_set)#conteo datos estratificados en train"
      ],
      "execution_count": null,
      "outputs": []
    },
    {
      "cell_type": "code",
      "metadata": {
        "id": "DZ6P3RorgwLF"
      },
      "source": [
        "strat_test_set[\"income_cat\"].value_counts() / len(strat_test_set)#conteo datos estratificados en test"
      ],
      "execution_count": null,
      "outputs": []
    },
    {
      "cell_type": "code",
      "metadata": {
        "id": "WcDitWcCgwLH"
      },
      "source": [
        "housing[\"income_cat\"].value_counts() / len(housing) #conteo datos originales"
      ],
      "execution_count": null,
      "outputs": []
    },
    {
      "cell_type": "markdown",
      "metadata": {
        "id": "xC3RJNNDgwLJ"
      },
      "source": [
        "**Comparar errores en particiones con y sin estratificación**"
      ]
    },
    {
      "cell_type": "code",
      "metadata": {
        "id": "_YcLWQlsgwLK"
      },
      "source": [
        "def income_cat_proportions(data):\n",
        "    return data[\"income_cat\"].value_counts() / len(data)\n",
        "\n",
        "train_set, test_set = train_test_split(housing, test_size=0.2, random_state=42)\n",
        "\n",
        "compare_props = pd.DataFrame({ #se crea diccionario para revisar porcentajes\n",
        "    \"Overall\": income_cat_proportions(housing),\n",
        "    \"Stratified\": income_cat_proportions(strat_test_set),\n",
        "    \"Random\": income_cat_proportions(test_set),\n",
        "}).sort_index()\n",
        "compare_props[\"Rand. %error\"] = 100 * compare_props[\"Random\"] / compare_props[\"Overall\"] - 100\n",
        "compare_props[\"Strat. %error\"] = 100 * compare_props[\"Stratified\"] / compare_props[\"Overall\"] - 100"
      ],
      "execution_count": null,
      "outputs": []
    },
    {
      "cell_type": "code",
      "metadata": {
        "id": "3n0lWdm3gwLL"
      },
      "source": [
        "compare_props"
      ],
      "execution_count": null,
      "outputs": []
    },
    {
      "cell_type": "code",
      "metadata": {
        "id": "bVd3iBbEgwLO"
      },
      "source": [
        "for set_ in (strat_train_set, strat_test_set): #retirar filas y columnas\n",
        "    set_.drop(\"income_cat\", axis=1, inplace=True)\n",
        "#strat_train_set.drop(\"income_cat\", axis=1, inplace=True) #se puede realizar elemento a elemento\n",
        "#strat_test_set.drop(\"income_cat\", axis=1, inplace=True)"
      ],
      "execution_count": null,
      "outputs": []
    },
    {
      "cell_type": "markdown",
      "metadata": {
        "id": "VcQZjq11gwLQ"
      },
      "source": [
        "# Análisis exploratorio y visualización sobre datos muestreados"
      ]
    },
    {
      "cell_type": "code",
      "metadata": {
        "id": "esRe-XCcgwLR"
      },
      "source": [
        "housing = strat_train_set.copy() #se copia los datos estratificados\n",
        "housing.shape"
      ],
      "execution_count": null,
      "outputs": []
    },
    {
      "cell_type": "code",
      "metadata": {
        "id": "tJKPTT2VgwLS"
      },
      "source": [
        "housing.plot(kind=\"scatter\", x=\"longitude\", y=\"latitude\") #visualización georeferenciada\n",
        "plt.tight_layout()\n",
        "plt.savefig('results/bad_visualization_plot.pdf', format='pdf', dpi=300)\n",
        "plt.show()"
      ],
      "execution_count": null,
      "outputs": []
    },
    {
      "cell_type": "code",
      "metadata": {
        "id": "3uINHp9SgwLV"
      },
      "source": [
        "housing.plot(kind=\"scatter\", x=\"longitude\", y=\"latitude\", alpha=0.1) #alpha controla la trasparencia\n",
        "plt.tight_layout()\n",
        "plt.savefig('results/bad_visualization_plot.pdf', format='pdf', dpi=300)\n",
        "plt.show()"
      ],
      "execution_count": null,
      "outputs": []
    },
    {
      "cell_type": "code",
      "metadata": {
        "id": "DeeSS_mjgwLX"
      },
      "source": [
        "housing.plot(kind=\"scatter\", x=\"longitude\", y=\"latitude\", alpha=0.4,\n",
        "    s=housing[\"population\"]/100, label=\"population\", figsize=(10,7),\n",
        "    c=\"median_house_value\", cmap=plt.get_cmap(\"jet\"), colorbar=True,\n",
        "    sharex=False)\n",
        "plt.legend()\n",
        "plt.tight_layout()\n",
        "plt.savefig('results/housing_prices_scatterplot.pdf', format='pdf', dpi=300)\n",
        "plt.show()"
      ],
      "execution_count": null,
      "outputs": []
    },
    {
      "cell_type": "code",
      "metadata": {
        "id": "Uu-rpCL8gwLZ"
      },
      "source": [
        "#definir mapa y disperción\n",
        "import matplotlib.image as mpimg\n",
        "california_img=mpimg.imread('datasets/california.png')\n",
        "ax = housing.plot(kind=\"scatter\", x=\"longitude\", y=\"latitude\", figsize=(10,7),\n",
        "                       s=housing['population']/100, label=\"Population\",\n",
        "                       c=\"median_house_value\", cmap=plt.get_cmap(\"jet\"),\n",
        "                       colorbar=False, alpha=0.4,\n",
        "                      )\n",
        "plt.imshow(california_img, extent=[-124.55, -113.80, 32.45, 42.05], alpha=0.5,\n",
        "           cmap=plt.get_cmap(\"jet\"))\n",
        "plt.ylabel(\"Latitude\", fontsize=14)\n",
        "plt.xlabel(\"Longitude\", fontsize=14)\n",
        "\n",
        "prices = housing[\"median_house_value\"]\n",
        "tick_values = np.linspace(prices.min(), prices.max(), 11)\n",
        "cbar = plt.colorbar()\n",
        "cbar.ax.set_yticklabels([\"$%dk\"%(round(v/1000)) for v in tick_values], fontsize=14)\n",
        "cbar.set_label('Median House Value', fontsize=16)\n",
        "\n",
        "plt.legend(fontsize=16)\n",
        "plt.tight_layout()\n",
        "plt.savefig('results/california_housing_prices_plot.pdf', format='pdf', dpi=300)\n",
        "plt.show()"
      ],
      "execution_count": null,
      "outputs": []
    },
    {
      "cell_type": "markdown",
      "metadata": {
        "id": "qFjt9I6LQGLz"
      },
      "source": [
        "# **Ejercicio 2**\n",
        "\n",
        "- Discuta sobre la visualización de los datos georreferenciados respecto a las variables consideradas\n",
        "\n"
      ]
    },
    {
      "cell_type": "markdown",
      "metadata": {
        "id": "QGxEFoG9gwLc"
      },
      "source": [
        "**Identificación de correlaciones**\n",
        "\n",
        "La [correlación](https://en.wikipedia.org/wiki/Correlation) es una de las medidas básicas para definir relaciones lineales entre atributos."
      ]
    },
    {
      "cell_type": "markdown",
      "metadata": {
        "id": "s57Fgcvx3Nue"
      },
      "source": [
        "$R_{xy} = \\mathbb{E}\\{xy\\}$: correlación\n",
        "\n",
        "$\\sigma_{xy} = \\mathbb{E}\\{(x-\\mu_x)(y-\\mu_y)\\}$ : covarianza\n",
        "\n",
        "**Coeficiente de Pearson**:\n",
        "\n",
        "$\\rho_{xy} = \\frac{\\sigma_{xy} }{\\sigma_{x}\\sigma_y} \\in [-1,1]$\n",
        "\n",
        "$\\sigma^2_x = \\mathbb{E}\\{(x-\\mu_x)^2\\}$: varianza\n",
        "\n",
        "$\\sigma_x$ : desviación estandar (std)"
      ]
    },
    {
      "cell_type": "code",
      "metadata": {
        "id": "RNVqX3KggwLc"
      },
      "source": [
        "corr_matrix = housing.corr() #función para calcular las correlaciones entre las variables\n",
        "corr_matrix.style.background_gradient(cmap='coolwarm')"
      ],
      "execution_count": null,
      "outputs": []
    },
    {
      "cell_type": "code",
      "metadata": {
        "id": "IRNL38IYgwLe"
      },
      "source": [
        "import seaborn as sns #librería útil para graficar mapas de calor, matrices\n",
        "sns.heatmap(corr_matrix,xticklabels=corr_matrix.columns.values,yticklabels=corr_matrix.columns.values)\n",
        "plt.tight_layout()\n",
        "plt.savefig('results/corr_matrix.pdf', format='pdf', dpi=300)\n",
        "plt.show()\n"
      ],
      "execution_count": null,
      "outputs": []
    },
    {
      "cell_type": "code",
      "metadata": {
        "id": "Ptq4eeoMgwLh"
      },
      "source": [
        "corr_matrix[\"median_house_value\"].sort_values(ascending=False) #orgnizar correlaciones con variable a predecir"
      ],
      "execution_count": null,
      "outputs": []
    },
    {
      "cell_type": "code",
      "metadata": {
        "id": "9SHSF5YTgwLj"
      },
      "source": [
        "from pandas.plotting import scatter_matrix\n",
        "\n",
        "attributes = [\"median_house_value\", \"median_income\", \"total_rooms\",\n",
        "              \"housing_median_age\",\"latitude\"]\n",
        "scatter_matrix(housing[attributes], figsize=(12, 8))\n",
        "plt.tight_layout()\n",
        "plt.savefig('results/scatter_matrix_plot.pdf', format='pdf', dpi=300)\n",
        "plt.show()"
      ],
      "execution_count": null,
      "outputs": []
    },
    {
      "cell_type": "markdown",
      "metadata": {
        "id": "vs4VmUzTgwLn"
      },
      "source": [
        "**Generar nuevas características intuitivas**\n",
        "\n",
        "En muchas ocasiones relaciones entre las variables pueden generar nuevas características (ingeniería de características)."
      ]
    },
    {
      "cell_type": "code",
      "metadata": {
        "id": "d3JHY_O5gwLo"
      },
      "source": [
        "housing[\"rooms_per_household\"] = housing[\"total_rooms\"]/housing[\"households\"]\n",
        "housing[\"bedrooms_per_room\"] = housing[\"total_bedrooms\"]/housing[\"total_rooms\"]\n",
        "housing[\"population_per_household\"]=housing[\"population\"]/housing[\"households\"]"
      ],
      "execution_count": null,
      "outputs": []
    },
    {
      "cell_type": "code",
      "metadata": {
        "id": "k0fX1LZJtoLt"
      },
      "source": [
        "housing.head()"
      ],
      "execution_count": null,
      "outputs": []
    },
    {
      "cell_type": "code",
      "metadata": {
        "id": "9U9KemaCgwLp"
      },
      "source": [
        "corr_matrix = housing.corr()#correlación incluyendo nuevas variables\n",
        "corr_matrix[\"median_house_value\"].sort_values(ascending=False)"
      ],
      "execution_count": null,
      "outputs": []
    },
    {
      "cell_type": "code",
      "metadata": {
        "id": "46Uva3OhgwLu"
      },
      "source": [
        "housing.describe()"
      ],
      "execution_count": null,
      "outputs": []
    },
    {
      "cell_type": "markdown",
      "metadata": {
        "id": "HkqbibKHgwLw"
      },
      "source": [
        "# Preparar los datos para los algoritmos de aprendizaje de máquina"
      ]
    },
    {
      "cell_type": "code",
      "metadata": {
        "id": "uRcmnumhgwLw"
      },
      "source": [
        "housing = strat_train_set.drop(\"median_house_value\", axis=1) # eliminar variable de salida de las entradas\n",
        "housing_labels = strat_train_set[\"median_house_value\"].copy()"
      ],
      "execution_count": null,
      "outputs": []
    },
    {
      "cell_type": "code",
      "metadata": {
        "id": "YlZFXxuivXok"
      },
      "source": [
        "housing.isnull().any(axis=1) # cualquier columna con alguna fila en null"
      ],
      "execution_count": null,
      "outputs": []
    },
    {
      "cell_type": "code",
      "metadata": {
        "id": "DBELJP9DgwLy"
      },
      "source": [
        "sample_incomplete_rows = housing[housing.isnull().any(axis=1) ]\n",
        "sample_incomplete_rows"
      ],
      "execution_count": null,
      "outputs": []
    },
    {
      "cell_type": "code",
      "source": [
        "sample_incomplete_rows.shape"
      ],
      "metadata": {
        "id": "nnNbq9xE1GUl"
      },
      "execution_count": null,
      "outputs": []
    },
    {
      "cell_type": "code",
      "metadata": {
        "id": "4mqVOe9PUb74"
      },
      "source": [
        "tmp = housing[(housing.isnull().any(axis=1)) & (housing['latitude'] > 35)]\n",
        "tmp"
      ],
      "execution_count": null,
      "outputs": []
    },
    {
      "cell_type": "markdown",
      "metadata": {
        "id": "rxDeUhS-gwL1"
      },
      "source": [
        "# Opciones básicas para lidiar con datos perdidos\n",
        "\n",
        "1. Quitar filas (instancias con característica perdida)\n",
        "2. Quitar columnas (se elimina la característica completa si presenta datos perdidos)\n",
        "3. Se estiman los valores perdidos mediante mediana, promedio, moda, o estimaciones por vecindario."
      ]
    },
    {
      "cell_type": "code",
      "metadata": {
        "id": "X460OvEjgwL1"
      },
      "source": [
        "sample_incomplete_rows.dropna(subset=[\"total_bedrooms\"])    # opción 1: eliminar filas"
      ],
      "execution_count": null,
      "outputs": []
    },
    {
      "cell_type": "code",
      "metadata": {
        "id": "6cx_7U1XgwL5"
      },
      "source": [
        "sample_incomplete_rows.drop(\"total_bedrooms\", axis=1)       # opción 2: eliminar columnas"
      ],
      "execution_count": null,
      "outputs": []
    },
    {
      "cell_type": "code",
      "metadata": {
        "id": "-Y3NHqKCgwL8"
      },
      "source": [
        "median = housing[\"total_bedrooms\"].median()\n",
        "sample_incomplete_rows[\"total_bedrooms\"].fillna(median, inplace=True) # opción 3: estimar datos perdidos\n",
        "sample_incomplete_rows"
      ],
      "execution_count": null,
      "outputs": []
    },
    {
      "cell_type": "markdown",
      "metadata": {
        "id": "wdFprtkIgwMB"
      },
      "source": [
        "**Clase Imputer de scikit-learn contiene este preproceso para datos perdidos**"
      ]
    },
    {
      "cell_type": "code",
      "metadata": {
        "id": "QbUIS2t_gwMC"
      },
      "source": [
        "from sklearn.impute import SimpleImputer  # clase para completar datos perdidos\n",
        "imputer = SimpleImputer(strategy=\"median\") #crear objeto con estimador de mediana"
      ],
      "execution_count": null,
      "outputs": []
    },
    {
      "cell_type": "markdown",
      "metadata": {
        "id": "AMcT8TrMgwME"
      },
      "source": [
        "Se deben remover las variables nominales para aplicar la opción por mediana:"
      ]
    },
    {
      "cell_type": "code",
      "metadata": {
        "id": "QSNbY3U_gwMH"
      },
      "source": [
        "housing_num = housing.drop('ocean_proximity', axis=1)\n"
      ],
      "execution_count": null,
      "outputs": []
    },
    {
      "cell_type": "code",
      "metadata": {
        "id": "rZNtpjGPgwMK"
      },
      "source": [
        "imputer.fit(housing_num) #se ajusta el modelo de completar datos numéricos"
      ],
      "execution_count": null,
      "outputs": []
    },
    {
      "cell_type": "code",
      "metadata": {
        "id": "0DVRPzXPgwMM"
      },
      "source": [
        "imputer.statistics_ #valores obtenidos en preproceso imputer por atributo numérico->mediana"
      ],
      "execution_count": null,
      "outputs": []
    },
    {
      "cell_type": "markdown",
      "metadata": {
        "id": "YhBef40sgwMO"
      },
      "source": [
        "Dichos valores son las mismas medianas:"
      ]
    },
    {
      "cell_type": "code",
      "metadata": {
        "id": "gY7ByaQ6gwMP"
      },
      "source": [
        "housing_num.median().values"
      ],
      "execution_count": null,
      "outputs": []
    },
    {
      "cell_type": "markdown",
      "metadata": {
        "id": "B_5JtnrggwMR"
      },
      "source": [
        "Aplicar el preproceso (transformación) según lo entrenado con imputer:"
      ]
    },
    {
      "cell_type": "code",
      "metadata": {
        "id": "PXOwLR7zgwMR"
      },
      "source": [
        "X = imputer.transform(housing_num)#se aplica el modelo de completar datos\n",
        "X #el transformer devuleve un array"
      ],
      "execution_count": null,
      "outputs": []
    },
    {
      "cell_type": "code",
      "metadata": {
        "id": "_UPO-1dVdDTt"
      },
      "source": [
        "X = imputer.fit_transform(housing_num)"
      ],
      "execution_count": null,
      "outputs": []
    },
    {
      "cell_type": "code",
      "metadata": {
        "id": "ZrCOtrM3gwMV"
      },
      "source": [
        "housing_num_imp = pd.DataFrame(X, columns=housing_num.columns)\n",
        "                          #index = list(housing.index.values)) #se puede volver a pandas frame"
      ],
      "execution_count": null,
      "outputs": []
    },
    {
      "cell_type": "code",
      "metadata": {
        "id": "EFcC3oilgwMX"
      },
      "source": [
        "housing_num_imp.isnull().sum()"
      ],
      "execution_count": null,
      "outputs": []
    },
    {
      "cell_type": "code",
      "metadata": {
        "id": "O8V1XIL1gwMZ"
      },
      "source": [
        "imputer.strategy"
      ],
      "execution_count": null,
      "outputs": []
    },
    {
      "cell_type": "markdown",
      "metadata": {
        "id": "-Np7WrSBgwMf"
      },
      "source": [
        "# Cómo trabajar con variables nominales (categóricas)? (ej: 'ocean_proximity')\n",
        "\n",
        "1. **Etiquetar (codificar) los textos**. Problemas: la noción de cercanía pierde sentido\n",
        "2. **One-hot-encoding** una nueva característica binaria se genera por cada categoría de la variable de interés. Problema: el número de características crece considerablemente."
      ]
    },
    {
      "cell_type": "code",
      "metadata": {
        "id": "ApRYnAG0gwMg"
      },
      "source": [
        "housing_cat = housing[['ocean_proximity']]#ejemplo con ocean proximity\n",
        "housing_cat.head(10)"
      ],
      "execution_count": null,
      "outputs": []
    },
    {
      "cell_type": "code",
      "source": [
        "np.unique(housing_cat)"
      ],
      "metadata": {
        "id": "4TUnNxCg4p5Z"
      },
      "execution_count": null,
      "outputs": []
    },
    {
      "cell_type": "code",
      "metadata": {
        "id": "jIndC-6GgwMi"
      },
      "source": [
        "from sklearn.preprocessing import OrdinalEncoder\n",
        "\n",
        "ordinal_encoder = OrdinalEncoder()\n",
        "housing_cat_encoded = ordinal_encoder.fit_transform(housing_cat)#se entrena y evalua en cascada\n",
        "#ordinal_encoder.fit(housing_cat) #entreno\n",
        "#housing_cat_encoded = ordinal_encoder.transform(housing_cat) #transformar/evaluar\n",
        "housing_cat_encoded[:10]"
      ],
      "execution_count": null,
      "outputs": []
    },
    {
      "cell_type": "code",
      "metadata": {
        "id": "gDgUsmgTgwMn"
      },
      "source": [
        "ordinal_encoder.categories_#codificación según orden implementado"
      ],
      "execution_count": null,
      "outputs": []
    },
    {
      "cell_type": "code",
      "metadata": {
        "id": "AjhJuXtxgwMp"
      },
      "source": [
        "from sklearn.preprocessing import OneHotEncoder\n",
        "\n",
        "cat_encoder = OneHotEncoder(sparse=True)\n",
        "housing_cat_1hot = cat_encoder.fit_transform(housing_cat)\n",
        "housing_cat_1hot"
      ],
      "execution_count": null,
      "outputs": []
    },
    {
      "cell_type": "markdown",
      "metadata": {
        "id": "JSwjm8IdgwMr"
      },
      "source": [
        "Por defecto, la clase `OneHotEncoder` retorna un arreglo ralo (sparse: la mayoría de elementos en 0), se puede usar la función `toarray()` para trabajar con arreglos completos (full)."
      ]
    },
    {
      "cell_type": "code",
      "metadata": {
        "id": "2l5ZL2qbgwMr"
      },
      "source": [
        "housing_cat_1hot.toarray()"
      ],
      "execution_count": null,
      "outputs": []
    },
    {
      "cell_type": "markdown",
      "metadata": {
        "id": "VmIkdfWlgwMu"
      },
      "source": [
        "También se puede fijar la opción  `sparse=False` en `OneHotEncoder`:"
      ]
    },
    {
      "cell_type": "code",
      "metadata": {
        "id": "tuypbZMSgwMu"
      },
      "source": [
        "cat_encoder = OneHotEncoder(sparse=False)\n",
        "housing_cat_1hot = cat_encoder.fit_transform(housing_cat)\n",
        "housing_cat_1hot"
      ],
      "execution_count": null,
      "outputs": []
    },
    {
      "cell_type": "code",
      "metadata": {
        "id": "8_r-DevpgwMx"
      },
      "source": [
        "cat_encoder.categories_"
      ],
      "execution_count": null,
      "outputs": []
    },
    {
      "cell_type": "markdown",
      "metadata": {
        "id": "spR8VSG5gwM2"
      },
      "source": [
        "# Esquema general (pipeline) de preproceso para atributos numéricos\n",
        "\n",
        "1. Lidiar con datos perdidos -> SimpleImputer\n",
        "2. Escalado de atributos (min max ; estandarización - zscore). Min-max sensible a atípicos  "
      ]
    },
    {
      "cell_type": "code",
      "metadata": {
        "id": "Yy7r62eUVTZn"
      },
      "source": [
        "#datos numéricos\n",
        "housing_num_imp.head()"
      ],
      "execution_count": null,
      "outputs": []
    },
    {
      "cell_type": "code",
      "metadata": {
        "id": "7a7s6NrKVYOw"
      },
      "source": [
        "#pandas datos categóricos\n",
        "housing_cat_ord = pd.DataFrame(housing_cat_encoded,columns=['Ocean_encoded'])\n",
        "housing_cat_ord.head()"
      ],
      "execution_count": null,
      "outputs": []
    },
    {
      "cell_type": "code",
      "metadata": {
        "id": "HpptDXnyV7CN"
      },
      "source": [
        "#pandas datos categóricos 1 hot encoder\n",
        "housing_cat_1hot = pd.DataFrame(housing_cat_1hot,columns=list(range(housing_cat_1hot.shape[1])))\n",
        "housing_cat_1hot.head()"
      ],
      "execution_count": null,
      "outputs": []
    },
    {
      "cell_type": "code",
      "metadata": {
        "id": "yZuiR9-3dyQp"
      },
      "source": [
        "housing_cat_1hot.shape"
      ],
      "execution_count": null,
      "outputs": []
    },
    {
      "cell_type": "code",
      "metadata": {
        "id": "7U4v1CWPaHAh"
      },
      "source": [
        "print(housing_num_imp.shape,housing_cat_ord.shape)"
      ],
      "execution_count": null,
      "outputs": []
    },
    {
      "cell_type": "code",
      "metadata": {
        "id": "TBZtzn8kcWn-"
      },
      "source": [
        "housing_cat_ord.isnull().sum()"
      ],
      "execution_count": null,
      "outputs": []
    },
    {
      "cell_type": "code",
      "metadata": {
        "id": "uPUQQrVDgwM4"
      },
      "source": [
        "housing_tr = pd.concat([housing_num_imp,housing_cat_ord],axis=1)#concatenar pandas numéricos y categóricos sobre columnas\n",
        "housing_tr.shape"
      ],
      "execution_count": null,
      "outputs": []
    },
    {
      "cell_type": "code",
      "metadata": {
        "id": "njUptNSHgwM-"
      },
      "source": [
        "housing_tr.head()"
      ],
      "execution_count": null,
      "outputs": []
    },
    {
      "cell_type": "code",
      "metadata": {
        "id": "38wb9T-iYZgJ"
      },
      "source": [
        "print(housing_tr.shape,housing_num.shape)"
      ],
      "execution_count": null,
      "outputs": []
    },
    {
      "cell_type": "code",
      "metadata": {
        "id": "lLNFz46Xk2ls"
      },
      "source": [
        "from sklearn.preprocessing import StandardScaler\n",
        "scaler = StandardScaler()\n",
        "scaler.fit(housing_tr)\n",
        "housing_tr_nor = scaler.transform(housing_tr)"
      ],
      "execution_count": null,
      "outputs": []
    },
    {
      "cell_type": "code",
      "metadata": {
        "id": "_XS75BnklPdD"
      },
      "source": [
        "housing_tr_num = pd.DataFrame(housing_tr_nor,columns=housing_tr.columns)\n",
        "housing_tr_num.describe()"
      ],
      "execution_count": null,
      "outputs": []
    },
    {
      "cell_type": "code",
      "metadata": {
        "id": "7yLPUoWilL2c"
      },
      "source": [
        "housing_tr_num.head()"
      ],
      "execution_count": null,
      "outputs": []
    },
    {
      "cell_type": "code",
      "metadata": {
        "id": "wchSiaNsYDwE"
      },
      "source": [
        "from sklearn.pipeline import Pipeline\n",
        "from sklearn.preprocessing import StandardScaler\n",
        "from sklearn.preprocessing import MinMaxScaler\n",
        "from sklearn.linear_model import LinearRegression\n",
        "\n",
        "my_pipeline = Pipeline([\n",
        "        ('std_scaler', StandardScaler()), #MinMaxScaler StandardScaler\n",
        "        ('reg',LinearRegression())\n",
        "    ])\n"
      ],
      "execution_count": null,
      "outputs": []
    },
    {
      "cell_type": "markdown",
      "metadata": {
        "id": "L7NxbffAgwNB"
      },
      "source": [
        "# Seleccionar un modelo y entrenar sobre los datos preparados"
      ]
    },
    {
      "cell_type": "code",
      "metadata": {
        "id": "-UbH-JjSf1LK"
      },
      "source": [
        "#entrenar el pipeline completo\n",
        "my_pipeline.fit(housing_tr,housing_labels)"
      ],
      "execution_count": null,
      "outputs": []
    },
    {
      "cell_type": "code",
      "metadata": {
        "id": "N4K8rKLKfo_R"
      },
      "source": [
        "output_e = my_pipeline.predict(housing_tr)#estimación de la salida sobre modelo entrenado\n",
        "output_e.shape"
      ],
      "execution_count": null,
      "outputs": []
    },
    {
      "cell_type": "markdown",
      "metadata": {
        "id": "hmhAFKz5gwND"
      },
      "source": [
        "Entrenar sobre un subconjunto de datos:"
      ]
    },
    {
      "cell_type": "code",
      "metadata": {
        "id": "-hGfO9y9gwND"
      },
      "source": [
        "# evaluar sobre algunos datos\n",
        "some_data = housing_tr.loc[:5]\n",
        "some_labels = housing_labels.loc[:5]\n",
        "\n",
        "print(\"Predicciones:\", my_pipeline.predict(some_data))"
      ],
      "execution_count": null,
      "outputs": []
    },
    {
      "cell_type": "markdown",
      "metadata": {
        "id": "YQrCm_E8gwNF"
      },
      "source": [
        "Comparar con datos verdaderos:"
      ]
    },
    {
      "cell_type": "code",
      "metadata": {
        "id": "sq-rUUURgwNF"
      },
      "source": [
        "print(\"Labels:\", list(some_labels))"
      ],
      "execution_count": null,
      "outputs": []
    },
    {
      "cell_type": "code",
      "metadata": {
        "id": "bYkNTFvggwNH"
      },
      "source": [
        "some_data"
      ],
      "execution_count": null,
      "outputs": []
    },
    {
      "cell_type": "code",
      "metadata": {
        "id": "DMmGOq_jgwNI"
      },
      "source": [
        "from sklearn.metrics import mean_squared_error #se cálcula el ajuste entre las predicciones y los datos usando el mse\n",
        "lin_mse = mean_squared_error(housing_labels, output_e)\n",
        "lin_rmse = np.sqrt(lin_mse)\n",
        "lin_rmse"
      ],
      "execution_count": null,
      "outputs": []
    },
    {
      "cell_type": "markdown",
      "metadata": {
        "id": "WBOI6EIjgwNJ"
      },
      "source": [
        "Cuantificar rendimiento con error absoluto medio:"
      ]
    },
    {
      "cell_type": "code",
      "metadata": {
        "id": "xw8P0qa1gwNJ"
      },
      "source": [
        "from sklearn.metrics import mean_absolute_error\n",
        "\n",
        "lin_mae = mean_absolute_error(housing_labels, output_e)\n",
        "lin_mae"
      ],
      "execution_count": null,
      "outputs": []
    },
    {
      "cell_type": "markdown",
      "metadata": {
        "id": "JhfspNHDgpCT"
      },
      "source": [
        "**Nota:** el mse y el mae se basan en el concepto norma-2 y norma-1 del error:\n",
        "\n",
        "$${\\rm{mse}}(\\mathbf{y},\\hat{\\mathbf{y}})=\\|\\mathbf{y} -\\hat{\\mathbf{y}}\\|_2$$\n",
        "\n",
        "$${\\rm{mae}}(\\mathbf{y},\\hat{\\mathbf{y}})=\\|\\mathbf{y} -\\hat{\\mathbf{y}}\\|_1$$\n"
      ]
    },
    {
      "cell_type": "markdown",
      "metadata": {
        "id": "92VoSg2555dH"
      },
      "source": [
        "# **Ejercicio 3**\n",
        "\n",
        "- Repetir el proceso expuesto para codificación OneHotEncoder y la normalización MinMaxScaler.\n",
        "\n",
        "- Compare y discuta los resultados en términos del mse y el mae."
      ]
    },
    {
      "cell_type": "code",
      "metadata": {
        "id": "nxoQowbgmHau"
      },
      "source": [
        "#Ayuda de código:\n",
        "#concatenar datos numericos completos con codificacion onehot de ocean proximity\n",
        "housing_tr2 = pd.concat([housing_num_imp,housing_cat_1hot],axis=1)#concatenar pandas numéricos y categóricos sobre columnas\n",
        "housing_tr2.shape"
      ],
      "execution_count": null,
      "outputs": []
    },
    {
      "cell_type": "markdown",
      "metadata": {
        "id": "evSkJ5RTgwNN"
      },
      "source": [
        "# Sintonizar el modelo\n",
        "\n",
        "Debemos verificar que el modelo no se este sobreajustando: i) necesitamos más datos? ii) un modelo más simple? iii) restringirlo (regularizarlo)?"
      ]
    },
    {
      "cell_type": "code",
      "metadata": {
        "id": "tgabof5FgwNN"
      },
      "source": [
        "from sklearn.model_selection import cross_val_score\n",
        "from sklearn.ensemble import RandomForestRegressor\n",
        "\n",
        "reg = RandomForestRegressor()\n",
        "#se estiman el rendimiendo sobre el conjunto de test para 10 particiones\n",
        "#se presenta el score del conjunto de test en cada partición\n",
        "scores = cross_val_score(reg, housing_tr, housing_labels,\n",
        "                         scoring=\"neg_mean_squared_error\", cv=5,verbose=100,n_jobs=-1) #scikitlearn trabaja con función util (mayor mejor) no función de costo (menor mejor)\n",
        "tree_rmse_scores = np.sqrt(-scores)\n",
        "#verbose presenta en pantalla la evolución del proceso\n",
        "#n_jobs = -1 permite paralelizar sobre cpu"
      ],
      "execution_count": null,
      "outputs": []
    },
    {
      "cell_type": "code",
      "metadata": {
        "id": "IxUvkSdzgwNO"
      },
      "source": [
        "def display_scores(scores):\n",
        "    print(\"Scores:\", scores)\n",
        "    print(\"Mean:\", scores.mean())\n",
        "    print(\"Standard deviation:\", scores.std())\n",
        "\n",
        "display_scores(tree_rmse_scores)"
      ],
      "execution_count": null,
      "outputs": []
    },
    {
      "cell_type": "code",
      "metadata": {
        "id": "xyMsDcaYgwNR"
      },
      "source": [
        "reg_lin = LinearRegression()#se prueba sobre un regresor lineal\n",
        "scores = cross_val_score(reg, housing_tr, housing_labels,\n",
        "                         scoring=\"neg_mean_squared_error\", cv=5,verbose=100,n_jobs=-1)\n",
        "\n",
        "lin_scores = cross_val_score(reg_lin, housing_tr, housing_labels,\n",
        "                             scoring=\"neg_mean_squared_error\", cv=10,verbose=100,n_jobs=-1)\n",
        "lin_rmse_scores = np.sqrt(-lin_scores)\n",
        "display_scores(lin_rmse_scores)"
      ],
      "execution_count": null,
      "outputs": []
    },
    {
      "cell_type": "markdown",
      "metadata": {
        "id": "2OZL9FlzgwNg"
      },
      "source": [
        "Búsqueda de hyperparámetros por regilla en validación cruzada:"
      ]
    },
    {
      "cell_type": "code",
      "metadata": {
        "id": "t2ElrMHZgwNh"
      },
      "source": [
        "from sklearn.model_selection import GridSearchCV\n",
        "\n",
        "param_grid = [\n",
        "    # se evaluan 12 (3×4) combinaciones de hiperparámetros\n",
        "    {'n_estimators': [3, 10, 30], 'max_features': [2, 4, 6, 8]},\n",
        "    # se evaluan 6 (2×3) combinaciones\n",
        "    {'bootstrap': [False], 'n_estimators': [3, 10], 'max_features': [2, 3, 4]},\n",
        "  ]\n",
        "\n",
        "forest_reg = RandomForestRegressor(random_state=42)\n",
        "# se generan 5 folds, para un total de (12+6)*5=90 entrenamientos\n",
        "grid_search = GridSearchCV(forest_reg, param_grid, cv=5, verbose=100,\n",
        "                           scoring='neg_mean_squared_error', return_train_score=True)\n",
        "grid_search.fit(housing_tr, housing_labels)"
      ],
      "execution_count": null,
      "outputs": []
    },
    {
      "cell_type": "markdown",
      "metadata": {
        "id": "lx12tHKpgwNi"
      },
      "source": [
        "Los mejores hyperparámetros encontrados:"
      ]
    },
    {
      "cell_type": "code",
      "metadata": {
        "id": "o04wVQs9gwNi"
      },
      "source": [
        "grid_search.best_params_"
      ],
      "execution_count": null,
      "outputs": []
    },
    {
      "cell_type": "code",
      "metadata": {
        "id": "W07dL5o-gwNk"
      },
      "source": [
        "grid_search.best_estimator_"
      ],
      "execution_count": null,
      "outputs": []
    },
    {
      "cell_type": "markdown",
      "metadata": {
        "id": "Ga2aE9Z9gwNl"
      },
      "source": [
        "Observemos los hyperparámetros escogidos durante las particiones:"
      ]
    },
    {
      "cell_type": "code",
      "metadata": {
        "id": "1pm_DI2wgwNm"
      },
      "source": [
        "cvres = grid_search.cv_results_#revisar los resultados por cv\n",
        "for mean_score, params in zip(cvres[\"mean_test_score\"], cvres[\"params\"]):\n",
        "    print(np.sqrt(-mean_score), params)"
      ],
      "execution_count": null,
      "outputs": []
    },
    {
      "cell_type": "code",
      "metadata": {
        "id": "7ldTkvXjgwNo"
      },
      "source": [
        "pd.DataFrame(grid_search.cv_results_)"
      ],
      "execution_count": null,
      "outputs": []
    },
    {
      "cell_type": "code",
      "metadata": {
        "id": "Yr9-Sg26gwNr"
      },
      "source": [
        "from sklearn.model_selection import RandomizedSearchCV #CV aleatorizada\n",
        "from scipy.stats import randint\n",
        "\n",
        "param_distribs = {\n",
        "        'n_estimators': randint(low=1, high=200),#regilla con muestreo aleatorio bajo distribución uniforme\n",
        "        'max_features': randint(low=1, high=8),\n",
        "    }\n",
        "\n",
        "forest_reg = RandomForestRegressor(random_state=42)\n",
        "rnd_search = RandomizedSearchCV(forest_reg, param_distributions=param_distribs,verbose=100,n_jobs=-1,\n",
        "                                n_iter=10, cv=5, scoring='neg_mean_squared_error', random_state=42)\n",
        "rnd_search.fit(housing_tr, housing_labels)"
      ],
      "execution_count": null,
      "outputs": []
    },
    {
      "cell_type": "code",
      "metadata": {
        "id": "YhkfOI8zgwNv"
      },
      "source": [
        "cvres = rnd_search.cv_results_\n",
        "for mean_score, params in zip(cvres[\"mean_test_score\"], cvres[\"params\"]):\n",
        "    print(np.sqrt(-mean_score), params)"
      ],
      "execution_count": null,
      "outputs": []
    },
    {
      "cell_type": "markdown",
      "metadata": {
        "id": "lAwioYErgwN8"
      },
      "source": [
        "# Material extra"
      ]
    },
    {
      "cell_type": "markdown",
      "metadata": {
        "id": "CfwqqB14gwN9"
      },
      "source": [
        "## Pipeline completo para preparación de datos y predicción"
      ]
    },
    {
      "cell_type": "code",
      "metadata": {
        "id": "z3oehuP8gwN9"
      },
      "source": [
        "full_pipeline_with_predictor = Pipeline([\n",
        "        (\"std_sca\", StandardScaler()),\n",
        "        (\"linear\", LinearRegression())\n",
        "    ])\n",
        "\n",
        "full_pipeline_with_predictor.fit(housing_tr, housing_labels)\n",
        "full_pipeline_with_predictor.predict(some_data)"
      ],
      "execution_count": null,
      "outputs": []
    },
    {
      "cell_type": "markdown",
      "metadata": {
        "id": "_nyIdOBNgwN-"
      },
      "source": [
        "## Creación de modelo eficiente con joblib"
      ]
    },
    {
      "cell_type": "code",
      "metadata": {
        "id": "DseYmdVZgwN-"
      },
      "source": [
        "my_model = full_pipeline_with_predictor"
      ],
      "execution_count": null,
      "outputs": []
    },
    {
      "cell_type": "code",
      "metadata": {
        "id": "yKIykWQ1gwN_"
      },
      "source": [
        "import joblib #https://joblib.readthedocs.io/en/latest/\n",
        "joblib.dump(my_model, \"results/my_model.pkl\") # DIFF  https://docs.python.org/2/library/pickle.html\n",
        "#...\n",
        "my_model_loaded = joblib.load(\"results/my_model.pkl\") # DIFF"
      ],
      "execution_count": null,
      "outputs": []
    },
    {
      "cell_type": "markdown",
      "metadata": {
        "id": "hCfqB6JFgwOA"
      },
      "source": [
        "## Ejemplos de distribuciones en SciPy para `RandomizedSearchCV`"
      ]
    },
    {
      "cell_type": "code",
      "metadata": {
        "id": "gNZXZNxdgwOA"
      },
      "source": [
        "from scipy.stats import geom, expon\n",
        "#algunas distribuciones desde scipy para buscar hiperparámetros\n",
        "geom_distrib=geom(0.5).rvs(10000, random_state=42)\n",
        "expon_distrib=expon(scale=1).rvs(10000, random_state=42)\n",
        "plt.hist(geom_distrib, bins=50)\n",
        "plt.show()\n",
        "plt.hist(expon_distrib, bins=50)\n",
        "plt.show()"
      ],
      "execution_count": null,
      "outputs": []
    },
    {
      "cell_type": "code",
      "metadata": {
        "id": "LMw7_z2igwOB"
      },
      "source": [
        "from sklearn.linear_model import ElasticNet\n",
        "\n",
        "Elastic_reg = ElasticNet(random_state=0)\n",
        "Elastic_reg.fit(housing_tr, housing_labels)\n",
        "#GridCV RandomCV\n",
        "housing_predictions = Elastic_reg.predict(housing_tr)\n",
        "lin_mse = mean_squared_error(housing_labels, housing_predictions)\n",
        "lin_rmse = np.sqrt(lin_mse)\n",
        "lin_rmse"
      ],
      "execution_count": null,
      "outputs": []
    },
    {
      "cell_type": "code",
      "metadata": {
        "id": "fdnsUX2tgwOD"
      },
      "source": [
        "#guardar resultados\n",
        "from google.colab import files\n",
        "from datetime import date, datetime\n",
        "import shutil\n",
        "#guardar resultados\n",
        "namefile = str(datetime.now().strftime(\"%Y_%m_%d_%H_%M_%d\"))+'__results'\n",
        "shutil.make_archive(namefile, 'zip', 'results')\n",
        "files.download(namefile+'.zip')"
      ],
      "execution_count": null,
      "outputs": []
    }
  ]
}