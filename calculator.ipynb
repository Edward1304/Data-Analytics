{
 "cells": [
  {
   "cell_type": "code",
   "execution_count": 14,
   "metadata": {},
   "outputs": [],
   "source": [
    "import math\n",
    "\n",
    "class Calculator:\n",
    "    def __init__(self):\n",
    "        pass\n",
    "    \n",
    "    def sum(self, num1, num2):\n",
    "        return num1 + num2\n",
    "    \n",
    "    def rest(self, num1, num2):\n",
    "        return num1 - num2\n",
    "    \n",
    "    def mul(self, num1, num2):\n",
    "        return num1 * num2\n",
    "    \n",
    "    def div(self, num1, num2):\n",
    "        \n",
    "        return num1 / num2\n",
    "        \n",
    "\n",
    "class ExtendedCalculator(Calculator):\n",
    "    def __init__(self):\n",
    "        super().__init__()\n",
    "    \n",
    "    def exponentiation(self, num1, num2):\n",
    "        return num1 ** num2\n",
    "    \n",
    "    def logarithm(self, num1, base):\n",
    "        return math.log(num1, base)\n",
    "\n"
   ]
  },
  {
   "cell_type": "code",
   "execution_count": 16,
   "metadata": {},
   "outputs": [
    {
     "name": "stdout",
     "output_type": "stream",
     "text": [
      "8\n",
      "6\n",
      "12\n",
      "3.4649735207179266\n"
     ]
    }
   ],
   "source": [
    "\n",
    "calc = ExtendedCalculator()\n",
    "\n",
    "# Realizar algunas operaciones\n",
    "print(calc.sum(5, 3))  \n",
    "print(calc.rest(10, 4))  \n",
    "print(calc.mul(2, 6))  \n",
    "print(calc.logarithm(45,3))\n",
    "\n",
    "\n"
   ]
  }
 ],
 "metadata": {
  "kernelspec": {
   "display_name": "Python 3",
   "language": "python",
   "name": "python3"
  },
  "language_info": {
   "codemirror_mode": {
    "name": "ipython",
    "version": 3
   },
   "file_extension": ".py",
   "mimetype": "text/x-python",
   "name": "python",
   "nbconvert_exporter": "python",
   "pygments_lexer": "ipython3",
   "version": "3.12.2"
  }
 },
 "nbformat": 4,
 "nbformat_minor": 2
}
